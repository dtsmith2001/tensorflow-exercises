{
 "cells": [
  {
   "cell_type": "markdown",
   "metadata": {},
   "source": [
    "# Wide Models\n",
    "\n",
    "* Linear regression co-occurances and correlations. Logistic regressions and decision trees.\n",
    "* Scalable\n",
    "* First Order logical predicate expression\n",
    "* Memorization\n",
    "* Hard to generalize\n",
    "* Many features map to a single value\n",
    "* Lots of custom feature engineering\n",
    "* Cross-product transformations do not generalize to query-item feature pairs that have not appearsed in the training data\n",
    "* Good to memorize specifics\n",
    "\n",
    "Deep models generalize but don't do well with specific cases."
   ]
  },
  {
   "cell_type": "markdown",
   "metadata": {},
   "source": [
    "Not OneHotEncoding, but more complicated. If Hispanic, assign a vector. The embedding is a NN. Instead of learning a single thing, they are learning more than one thing. Gray encoding - from signal processing."
   ]
  },
  {
   "cell_type": "code",
   "execution_count": null,
   "metadata": {
    "collapsed": true
   },
   "outputs": [],
   "source": []
  }
 ],
 "metadata": {
  "kernelspec": {
   "display_name": "Python [Root]",
   "language": "python",
   "name": "Python [Root]"
  },
  "language_info": {
   "codemirror_mode": {
    "name": "ipython",
    "version": 3
   },
   "file_extension": ".py",
   "mimetype": "text/x-python",
   "name": "python",
   "nbconvert_exporter": "python",
   "pygments_lexer": "ipython3",
   "version": "3.5.2"
  }
 },
 "nbformat": 4,
 "nbformat_minor": 0
}
